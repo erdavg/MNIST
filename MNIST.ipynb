{
 "cells": [
  {
   "cell_type": "code",
   "execution_count": 1,
   "id": "14cbd77b",
   "metadata": {},
   "outputs": [],
   "source": [
    "import numpy as np"
   ]
  },
  {
   "cell_type": "code",
   "execution_count": 2,
   "id": "fc37b564",
   "metadata": {},
   "outputs": [],
   "source": [
    "from sklearn.datasets import fetch_openml\n",
    "\n",
    "# Establece el parser en 'auto' para evitar la advertencia\n",
    "mnist = fetch_openml('mnist_784', version=1, parser='auto')\n",
    "\n",
    "# Ahora puedes usar el conjunto de datos como de costumbre\n"
   ]
  },
  {
   "cell_type": "code",
   "execution_count": 3,
   "id": "5000923a",
   "metadata": {},
   "outputs": [],
   "source": [
    "X, y = mnist[\"data\"], mnist[\"target\"]"
   ]
  },
  {
   "cell_type": "code",
   "execution_count": 4,
   "id": "e878eaba",
   "metadata": {
    "scrolled": true
   },
   "outputs": [
    {
     "data": {
      "text/plain": [
       "(70000, 784)"
      ]
     },
     "execution_count": 4,
     "metadata": {},
     "output_type": "execute_result"
    }
   ],
   "source": [
    "X.shape"
   ]
  },
  {
   "cell_type": "code",
   "execution_count": 5,
   "id": "7445f9a7",
   "metadata": {},
   "outputs": [
    {
     "data": {
      "text/plain": [
       "(70000,)"
      ]
     },
     "execution_count": 5,
     "metadata": {},
     "output_type": "execute_result"
    }
   ],
   "source": [
    "y.shape"
   ]
  },
  {
   "cell_type": "code",
   "execution_count": 6,
   "id": "9483efec",
   "metadata": {
    "scrolled": true
   },
   "outputs": [
    {
     "name": "stderr",
     "output_type": "stream",
     "text": [
      "C:\\Users\\erdav\\anaconda3\\lib\\site-packages\\sklearn\\datasets\\_openml.py:1002: FutureWarning: The default value of `parser` will change from `'liac-arff'` to `'auto'` in 1.4. You can set `parser='auto'` to silence this warning. Therefore, an `ImportError` will be raised from 1.4 if the dataset is dense and pandas is not installed. Note that the pandas parser may return different data types. See the Notes Section in fetch_openml's API doc for details.\n",
      "  warn(\n"
     ]
    },
    {
     "data": {
      "image/png": "[encoded data removed]",
      "text/plain": [
       "<Figure size 432x288 with 1 Axes>"
      ]
     },
     "metadata": {
      "needs_background": "light"
     },
     "output_type": "display_data"
    }
   ],
   "source": [
    "import matplotlib as mpl\n",
    "import matplotlib.pyplot as plt\n",
    "from sklearn.datasets import fetch_openml\n",
    "\n",
    "# Cargar el conjunto de datos MNIST\n",
    "mnist = fetch_openml('mnist_784', version=1)\n",
    "X, y = mnist.data, mnist.target\n",
    "\n",
    "# Convertir los datos a un DataFrame de Pandas (opcional)\n",
    "import pandas as pd\n",
    "X = pd.DataFrame(X)\n",
    "\n",
    "# Ahora puedes acceder a los datos y mostrar una imagen, por ejemplo, la primera imagen:\n",
    "some_digit = X.iloc[0]  # Accede a la primera fila de X\n",
    "some_digit_image = some_digit.values.reshape(28, 28)  # Convierte la fila en una imagen 28x28\n",
    "plt.imshow(some_digit_image, cmap=mpl.cm.binary, interpolation=\"nearest\")\n",
    "plt.axis(\"off\")\n",
    "plt.show()\n"
   ]
  },
  {
   "cell_type": "code",
   "execution_count": 7,
   "id": "6f667816",
   "metadata": {
    "scrolled": true
   },
   "outputs": [
    {
     "data": {
      "text/plain": [
       "'5'"
      ]
     },
     "execution_count": 7,
     "metadata": {},
     "output_type": "execute_result"
    }
   ],
   "source": [
    "y[0]"
   ]
  },
  {
   "cell_type": "code",
   "execution_count": 8,
   "id": "705eb0a2",
   "metadata": {},
   "outputs": [],
   "source": [
    "y = y.astype(np.uint8)"
   ]
  },
  {
   "cell_type": "markdown",
   "id": "14e79534",
   "metadata": {},
   "source": [
    "Dividir datos en entrenamiento y prueba"
   ]
  },
  {
   "cell_type": "code",
   "execution_count": 9,
   "id": "64ac4833",
   "metadata": {},
   "outputs": [],
   "source": [
    "X_train, X_test, y_train, y_test = X[:60000], X[60000:], y[:60000], y[60000:]"
   ]
  },
  {
   "cell_type": "markdown",
   "id": "c87ebb58",
   "metadata": {},
   "source": [
    "## Entrenando un clasificador binario"
   ]
  },
  {
   "cell_type": "markdown",
   "id": "5aa21373",
   "metadata": {},
   "source": [
    "Identicar un solo digito, si es 5 o no es 5"
   ]
  },
  {
   "cell_type": "code",
   "execution_count": 12,
   "id": "977bae4d",
   "metadata": {},
   "outputs": [],
   "source": [
    "y_train_5 = (y_train == 5) # verdadero si es 5, falso los demas digitos\n",
    "y_test_5 = (y_test == 5)"
   ]
  },
  {
   "cell_type": "markdown",
   "id": "a294bdc1",
   "metadata": {},
   "source": [
    "Elegimnos un clasificador. Un buen lugar para empezar es con el Stochastic Gradient Descent (SGD)\n",
    "Este clasificador es capaz de manejar grandes conjuntos de datos eficientemente.\n",
    "El SGD puede lidiar con observaciones de entrenamiento independientemente, uno a la vez.\n",
    "Los usaremos en el conjunto de entrenamiento entero"
   ]
  },
  {
   "cell_type": "code",
   "execution_count": 15,
   "id": "a266249d",
   "metadata": {},
   "outputs": [
    {
     "data": {
      "text/html": [
       "<style>#sk-container-id-3 {color: black;}#sk-container-id-3 pre{padding: 0;}#sk-container-id-3 div.sk-toggleable {background-color: white;}#sk-container-id-3 label.sk-toggleable__label {cursor: pointer;display: block;width: 100%;margin-bottom: 0;padding: 0.3em;box-sizing: border-box;text-align: center;}#sk-container-id-3 label.sk-toggleable__label-arrow:before {content: \"▸\";float: left;margin-right: 0.25em;color: #696969;}#sk-container-id-3 label.sk-toggleable__label-arrow:hover:before {color: black;}#sk-container-id-3 div.sk-estimator:hover label.sk-toggleable__label-arrow:before {color: black;}#sk-container-id-3 div.sk-toggleable__content {max-height: 0;max-width: 0;overflow: hidden;text-align: left;background-color: #f0f8ff;}#sk-container-id-3 div.sk-toggleable__content pre {margin: 0.2em;color: black;border-radius: 0.25em;background-color: #f0f8ff;}#sk-container-id-3 input.sk-toggleable__control:checked~div.sk-toggleable__content {max-height: 200px;max-width: 100%;overflow: auto;}#sk-container-id-3 input.sk-toggleable__control:checked~label.sk-toggleable__label-arrow:before {content: \"▾\";}#sk-container-id-3 div.sk-estimator input.sk-toggleable__control:checked~label.sk-toggleable__label {background-color: #d4ebff;}#sk-container-id-3 div.sk-label input.sk-toggleable__control:checked~label.sk-toggleable__label {background-color: #d4ebff;}#sk-container-id-3 input.sk-hidden--visually {border: 0;clip: rect(1px 1px 1px 1px);clip: rect(1px, 1px, 1px, 1px);height: 1px;margin: -1px;overflow: hidden;padding: 0;position: absolute;width: 1px;}#sk-container-id-3 div.sk-estimator {font-family: monospace;background-color: #f0f8ff;border: 1px dotted black;border-radius: 0.25em;box-sizing: border-box;margin-bottom: 0.5em;}#sk-container-id-3 div.sk-estimator:hover {background-color: #d4ebff;}#sk-container-id-3 div.sk-parallel-item::after {content: \"\";width: 100%;border-bottom: 1px solid gray;flex-grow: 1;}#sk-container-id-3 div.sk-label:hover label.sk-toggleable__label {background-color: #d4ebff;}#sk-container-id-3 div.sk-serial::before {content: \"\";position: absolute;border-left: 1px solid gray;box-sizing: border-box;top: 0;bottom: 0;left: 50%;z-index: 0;}#sk-container-id-3 div.sk-serial {display: flex;flex-direction: column;align-items: center;background-color: white;padding-right: 0.2em;padding-left: 0.2em;position: relative;}#sk-container-id-3 div.sk-item {position: relative;z-index: 1;}#sk-container-id-3 div.sk-parallel {display: flex;align-items: stretch;justify-content: center;background-color: white;position: relative;}#sk-container-id-3 div.sk-item::before, #sk-container-id-3 div.sk-parallel-item::before {content: \"\";position: absolute;border-left: 1px solid gray;box-sizing: border-box;top: 0;bottom: 0;left: 50%;z-index: -1;}#sk-container-id-3 div.sk-parallel-item {display: flex;flex-direction: column;z-index: 1;position: relative;background-color: white;}#sk-container-id-3 div.sk-parallel-item:first-child::after {align-self: flex-end;width: 50%;}#sk-container-id-3 div.sk-parallel-item:last-child::after {align-self: flex-start;width: 50%;}#sk-container-id-3 div.sk-parallel-item:only-child::after {width: 0;}#sk-container-id-3 div.sk-dashed-wrapped {border: 1px dashed gray;margin: 0 0.4em 0.5em 0.4em;box-sizing: border-box;padding-bottom: 0.4em;background-color: white;}#sk-container-id-3 div.sk-label label {font-family: monospace;font-weight: bold;display: inline-block;line-height: 1.2em;}#sk-container-id-3 div.sk-label-container {text-align: center;}#sk-container-id-3 div.sk-container {/* jupyter's `normalize.less` sets `[hidden] { display: none; }` but bootstrap.min.css set `[hidden] { display: none !important; }` so we also need the `!important` here to be able to override the default hidden behavior on the sphinx rendered scikit-learn.org. See: https://github.com/scikit-learn/scikit-learn/issues/21755 */display: inline-block !important;position: relative;}#sk-container-id-3 div.sk-text-repr-fallback {display: none;}</style><div id=\"sk-container-id-3\" class=\"sk-top-container\"><div class=\"sk-text-repr-fallback\"><pre>SGDClassifier(random_state=42)</pre><b>In a Jupyter environment, please rerun this cell to show the HTML representation or trust the notebook. <br />On GitHub, the HTML representation is unable to render, please try loading this page with nbviewer.org.</b></div><div class=\"sk-container\" hidden><div class=\"sk-item\"><div class=\"sk-estimator sk-toggleable\"><input class=\"sk-toggleable__control sk-hidden--visually\" id=\"sk-estimator-id-3\" type=\"checkbox\" checked><label for=\"sk-estimator-id-3\" class=\"sk-toggleable__label sk-toggleable__label-arrow\">SGDClassifier</label><div class=\"sk-toggleable__content\"><pre>SGDClassifier(random_state=42)</pre></div></div></div></div></div>"
      ],
      "text/plain": [
       "SGDClassifier(random_state=42)"
      ]
     },
     "execution_count": 15,
     "metadata": {},
     "output_type": "execute_result"
    }
   ],
   "source": [
    "from sklearn.linear_model import SGDClassifier\n",
    "sgd_clf = SGDClassifier(random_state=42)\n",
    "sgd_clf.fit(X_train, y_train_5)"
   ]
  },
  {
   "cell_type": "markdown",
   "id": "0ef8ab8d",
   "metadata": {},
   "source": [
    "Ahora podemos usarlos para detectar imagenes con el numero 5"
   ]
  },
  {
   "cell_type": "code",
   "execution_count": 16,
   "id": "a54d63b6",
   "metadata": {
    "scrolled": true
   },
   "outputs": [
    {
     "name": "stderr",
     "output_type": "stream",
     "text": [
      "C:\\Users\\erdav\\anaconda3\\lib\\site-packages\\sklearn\\base.py:464: UserWarning: X does not have valid feature names, but SGDClassifier was fitted with feature names\n",
      "  warnings.warn(\n"
     ]
    },
    {
     "data": {
      "text/plain": [
       "array([ True])"
      ]
     },
     "execution_count": 16,
     "metadata": {},
     "output_type": "execute_result"
    }
   ],
   "source": [
    "sgd_clf.predict([some_digit])"
   ]
  },
  {
   "cell_type": "markdown",
   "id": "9197b3ab",
   "metadata": {},
   "source": [
    "NotaL: Mezclar puede ser mala idea en algunos contextos, por ejemplo si usan series de tienpo\n",
    "Arriba se hizo shuffling"
   ]
  },
  {
   "cell_type": "markdown",
   "id": "3cf3b471",
   "metadata": {},
   "source": [
    "## Medidas de Performance"
   ]
  },
  {
   "cell_type": "markdown",
   "id": "697c9d8c",
   "metadata": {},
   "source": [
    "Existen varias medidas de performance"
   ]
  },
  {
   "cell_type": "markdown",
   "id": "45cd5062",
   "metadata": {},
   "source": [
    "### Medir presicion usando cross-validation"
   ]
  },
  {
   "cell_type": "markdown",
   "id": "4f22cf28",
   "metadata": {},
   "source": [
    "Una buena forma de evaluar un modelo es usando cross-validation.\n",
    "\n",
    "Usaremos cross_val_score() para evaluar el modelo de SGDClassifier\n",
    "\n",
    "K-folds significa dividir el modelo de entrenamiento en K-folds (en este caso 3)"
   ]
  },
  {
   "cell_type": "code",
   "execution_count": 20,
   "id": "0e91cb40",
   "metadata": {},
   "outputs": [
    {
     "data": {
      "text/plain": [
       "array([0.95035, 0.96035, 0.9604 ])"
      ]
     },
     "execution_count": 20,
     "metadata": {},
     "output_type": "execute_result"
    }
   ],
   "source": [
    ">>> from sklearn.model_selection import cross_val_score\n",
    ">>> cross_val_score(sgd_clf, X_train, y_train_5, cv=3, scoring=\"accuracy\")"
   ]
  },
  {
   "cell_type": "markdown",
   "id": "525df38b",
   "metadata": {},
   "source": [
    "Cerca del 95% de presicion (proporcion de predcciones correctas) en todos los folds de cross validation\n",
    "\n",
    "Usaremos un clasificador para comparar, este compara cada imagen en la clase de \n",
    "\"no es 5\""
   ]
  },
  {
   "cell_type": "code",
   "execution_count": 22,
   "id": "7dd510cc",
   "metadata": {},
   "outputs": [],
   "source": [
    "from sklearn.base import BaseEstimator\n",
    "class Never5Classifier(BaseEstimator):\n",
    "    def fit(self, X, y=None):\n",
    "        pass\n",
    "    def predict(self, X):\n",
    "        return np.zeros((len(X), 1), dtype=bool)"
   ]
  },
  {
   "cell_type": "code",
   "execution_count": 23,
   "id": "5b9a6fb5",
   "metadata": {},
   "outputs": [
    {
     "data": {
      "text/plain": [
       "array([0.91125, 0.90855, 0.90915])"
      ]
     },
     "execution_count": 23,
     "metadata": {},
     "output_type": "execute_result"
    }
   ],
   "source": [
    ">>> never_5_clf = Never5Classifier()\n",
    ">>> cross_val_score(never_5_clf, X_train, y_train_5, cv=3, scoring=\"accuracy\")"
   ]
  },
  {
   "cell_type": "markdown",
   "id": "e2bf438a",
   "metadata": {},
   "source": [
    "Tiene un 90% de presicion ya que cerca del 10% de las imagenes son 5, asi que si siempre se adivina una imagen que no es un 5, tendras presicion de un 90%.\n",
    "\n",
    "Esto demuestra porque la presicion es generalmente no preferida como medidor de performance para clasificadores, especialmente cuando son datasets sesgados"
   ]
  },
  {
   "cell_type": "markdown",
   "id": "13671619",
   "metadata": {},
   "source": [
    "## Matriz de confusion"
   ]
  },
  {
   "cell_type": "markdown",
   "id": "904356e8",
   "metadata": {},
   "source": [
    "Es un mejor evaluador de performance de un clasificador.\n",
    "La idea general es contar el numero de veces que las observaciones son clasificadas como clase A son clasificadas como clase B. por ejemplo, para saber el numero de veces que un clasificador confunde imagenes del 5 con el 3, observaras en l quinta fila y la tercer columna en la matriz de confusion\n",
    "\n",
    "Para calcular la matriz de confusion, primero se debe tener un set de predicciones, para que puedan ser comparados con los objetivios actuales.\n",
    "Se podrian hacer predicciones con el conjunto de prueba, pero no los tocaremos por ahora. (test set se usa de preferencia al final del proyecto)\n",
    "\n",
    "En su lugar usaremos la funcion cross_val_predict()"
   ]
  },
  {
   "cell_type": "code",
   "execution_count": 24,
   "id": "bc79cd20",
   "metadata": {},
   "outputs": [],
   "source": [
    "from sklearn.model_selection import cross_val_predict\n",
    "y_train_pred = cross_val_predict(sgd_clf, X_train, y_train_5, cv=3)"
   ]
  },
  {
   "cell_type": "markdown",
   "id": "4af9fcd6",
   "metadata": {},
   "source": [
    "Al igual que la función cross_val_score(), cross_val_predict() realiza K-fold\n",
    "cross validation, pero en lugar de devolver las puntuaciones de evaluación, devuelve las predicciones realizadas en cada pliegue de la prueba. Esto significa que obtienes una predicción limpia para cada\n",
    "instancia en el conjunto de entrenamiento (\"limpio\", lo que significa que la predicción la realiza un modelo\n",
    "que nunca vio los datos durante el entrenamiento)\n",
    "\n",
    "Ahora estamos listos para hacer una matriz de confusion"
   ]
  },
  {
   "cell_type": "code",
   "execution_count": 25,
   "id": "2449f9ad",
   "metadata": {},
   "outputs": [
    {
     "data": {
      "text/plain": [
       "array([[53892,   687],\n",
       "       [ 1891,  3530]], dtype=int64)"
      ]
     },
     "execution_count": 25,
     "metadata": {},
     "output_type": "execute_result"
    }
   ],
   "source": [
    ">>> from sklearn.metrics import confusion_matrix\n",
    ">>> confusion_matrix(y_train_5, y_train_pred)"
   ]
  },
  {
   "cell_type": "markdown",
   "id": "ec3c29bb",
   "metadata": {},
   "source": [
    "Cada fila en una matriz de confusión representa una clase real, mientras que cada columna representa\n",
    "envía una clase prevista. La primera fila de esta matriz considera imágenes que no son 5 (las imágenes negativas): 53892 de ellos fueron clasificados correctamente como no 5 (se les llama verdaderos\n",
    "negativos), mientras que los 687 restantes fueron clasificados erróneamente como 5 (falsos positivos).\n",
    "La segunda fila considera las imágenes de 5 (la clase positiva): 1891 estaban equivocadas\n",
    "clasificados como no 5 (falsos negativos), mientras que los 3530 restantes se clasificaron correctamente.\n",
    "clasificados como 5 (verdaderos positivos). Un clasificador perfecto sólo tendría verdaderos positivos y verdaderos.\n",
    "negativos, por lo que su matriz de confusión tendría valores distintos de cero sólo en su diagonal principal.\n",
    "final (de arriba a la izquierda a abajo a la derecha):"
   ]
  },
  {
   "cell_type": "code",
   "execution_count": 27,
   "id": "80153973",
   "metadata": {},
   "outputs": [
    {
     "data": {
      "text/plain": [
       "array([[54579,     0],\n",
       "       [    0,  5421]], dtype=int64)"
      ]
     },
     "execution_count": 27,
     "metadata": {},
     "output_type": "execute_result"
    }
   ],
   "source": [
    ">>> y_train_perfect_predictions = y_train_5 # pretendemnos que alcanzamos la perfeccion\n",
    ">>> confusion_matrix(y_train_5, y_train_perfect_predictions)"
   ]
  },
  {
   "cell_type": "markdown",
   "id": "95c48e5b",
   "metadata": {},
   "source": [
    "## Precision y recuperacion"
   ]
  },
  {
   "cell_type": "markdown",
   "id": "e7362bf0",
   "metadata": {},
   "source": [
    "Calcular metricas de clasificacion"
   ]
  },
  {
   "cell_type": "code",
   "execution_count": 29,
   "id": "5e25bd3a",
   "metadata": {},
   "outputs": [
    {
     "data": {
      "text/plain": [
       "0.8370879772350012"
      ]
     },
     "execution_count": 29,
     "metadata": {},
     "output_type": "execute_result"
    }
   ],
   "source": [
    ">>> from sklearn.metrics import precision_score, recall_score\n",
    ">>> precision_score(y_train_5, y_train_pred) # == 3530 / (3530 + 687)"
   ]
  },
  {
   "cell_type": "code",
   "execution_count": 30,
   "id": "1826947d",
   "metadata": {},
   "outputs": [
    {
     "data": {
      "text/plain": [
       "0.6511713705958311"
      ]
     },
     "execution_count": 30,
     "metadata": {},
     "output_type": "execute_result"
    }
   ],
   "source": [
    "recall_score(y_train_5, y_train_pred) # == 3530 / (3530 + 1891)"
   ]
  },
  {
   "cell_type": "markdown",
   "id": "efe814ac",
   "metadata": {},
   "source": [
    "Ahora su detector de 5 no se ve tan brillante como cuando observó su precisión.\n",
    "Cuando afirma que una imagen representa un 5, es correcto sólo el 83,7% de las veces. Más-\n",
    "Además, sólo detecta el 65,1% de los 5"
   ]
  }
 ],
 "metadata": {
  "kernelspec": {
   "display_name": "Python 3 (ipykernel)",
   "language": "python",
   "name": "python3"
  },
  "language_info": {
   "codemirror_mode": {
    "name": "ipython",
    "version": 3
   },
   "file_extension": ".py",
   "mimetype": "text/x-python",
   "name": "python",
   "nbconvert_exporter": "python",
   "pygments_lexer": "ipython3",
   "version": "3.9.12"
  }
 },
 "nbformat": 4,
 "nbformat_minor": 5
}
