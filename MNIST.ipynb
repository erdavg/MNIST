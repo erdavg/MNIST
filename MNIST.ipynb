{
 "cells": [
  {
   "cell_type": "code",
   "execution_count": 1,
   "id": "14cbd77b",
   "metadata": {},
   "outputs": [],
   "source": [
    "import numpy as np"
   ]
  },
  {
   "cell_type": "code",
   "execution_count": 2,
   "id": "fc37b564",
   "metadata": {},
   "outputs": [],
   "source": [
    "from sklearn.datasets import fetch_openml\n",
    "\n",
    "# Establece el parser en 'auto' para evitar la advertencia\n",
    "mnist = fetch_openml('mnist_784', version=1, parser='auto')\n",
    "\n",
    "# Ahora puedes usar el conjunto de datos como de costumbre\n"
   ]
  },
  {
   "cell_type": "code",
   "execution_count": 3,
   "id": "5000923a",
   "metadata": {},
   "outputs": [],
   "source": [
    "X, y = mnist[\"data\"], mnist[\"target\"]"
   ]
  },
  {
   "cell_type": "code",
   "execution_count": 4,
   "id": "e878eaba",
   "metadata": {
    "scrolled": true
   },
   "outputs": [
    {
     "data": {
      "text/plain": [
       "(70000, 784)"
      ]
     },
     "execution_count": 4,
     "metadata": {},
     "output_type": "execute_result"
    }
   ],
   "source": [
    "X.shape"
   ]
  },
  {
   "cell_type": "code",
   "execution_count": 5,
   "id": "7445f9a7",
   "metadata": {},
   "outputs": [
    {
     "data": {
      "text/plain": [
       "(70000,)"
      ]
     },
     "execution_count": 5,
     "metadata": {},
     "output_type": "execute_result"
    }
   ],
   "source": [
    "y.shape"
   ]
  },
  {
   "cell_type": "code",
   "execution_count": 6,
   "id": "9483efec",
   "metadata": {
    "scrolled": true
   },
   "outputs": [
    {
     "name": "stderr",
     "output_type": "stream",
     "text": [
      "C:\\Users\\erdav\\anaconda3\\lib\\site-packages\\sklearn\\datasets\\_openml.py:1002: FutureWarning: The default value of `parser` will change from `'liac-arff'` to `'auto'` in 1.4. You can set `parser='auto'` to silence this warning. Therefore, an `ImportError` will be raised from 1.4 if the dataset is dense and pandas is not installed. Note that the pandas parser may return different data types. See the Notes Section in fetch_openml's API doc for details.\n",
      "  warn(\n"
     ]
    },
    {
     "data": {
      "image/png": "[encoded data removed]",
      "text/plain": [
       "<Figure size 432x288 with 1 Axes>"
      ]
     },
     "metadata": {
      "needs_background": "light"
     },
     "output_type": "display_data"
    }
   ],
   "source": [
    "import matplotlib as mpl\n",
    "import matplotlib.pyplot as plt\n",
    "from sklearn.datasets import fetch_openml\n",
    "\n",
    "# Cargar el conjunto de datos MNIST\n",
    "mnist = fetch_openml('mnist_784', version=1)\n",
    "X, y = mnist.data, mnist.target\n",
    "\n",
    "# Convertir los datos a un DataFrame de Pandas (opcional)\n",
    "import pandas as pd\n",
    "X = pd.DataFrame(X)\n",
    "\n",
    "# Ahora puedes acceder a los datos y mostrar una imagen, por ejemplo, la primera imagen:\n",
    "some_digit = X.iloc[0]  # Accede a la primera fila de X\n",
    "some_digit_image = some_digit.values.reshape(28, 28)  # Convierte la fila en una imagen 28x28\n",
    "plt.imshow(some_digit_image, cmap=mpl.cm.binary, interpolation=\"nearest\")\n",
    "plt.axis(\"off\")\n",
    "plt.show()\n"
   ]
  },
  {
   "cell_type": "code",
   "execution_count": 7,
   "id": "6f667816",
   "metadata": {
    "scrolled": true
   },
   "outputs": [
    {
     "data": {
      "text/plain": [
       "'5'"
      ]
     },
     "execution_count": 7,
     "metadata": {},
     "output_type": "execute_result"
    }
   ],
   "source": [
    "y[0]"
   ]
  },
  {
   "cell_type": "code",
   "execution_count": 8,
   "id": "705eb0a2",
   "metadata": {},
   "outputs": [],
   "source": [
    "y = y.astype(np.uint8)"
   ]
  },
  {
   "cell_type": "markdown",
   "id": "14e79534",
   "metadata": {},
   "source": [
    "Dividir datos en entrenamiento y prueba"
   ]
  },
  {
   "cell_type": "code",
   "execution_count": 9,
   "id": "64ac4833",
   "metadata": {},
   "outputs": [],
   "source": [
    "X_train, X_test, y_train, y_test = X[:60000], X[60000:], y[:60000], y[60000:]"
   ]
  },
  {
   "cell_type": "markdown",
   "id": "c87ebb58",
   "metadata": {},
   "source": [
    "## Entrenando un clasificador binario"
   ]
  },
  {
   "cell_type": "markdown",
   "id": "5aa21373",
   "metadata": {},
   "source": [
    "Identicar un solo digito, si es 5 o no es 5"
   ]
  },
  {
   "cell_type": "code",
   "execution_count": 10,
   "id": "977bae4d",
   "metadata": {},
   "outputs": [],
   "source": [
    "y_train_5 = (y_train == 5) # verdadero si es 5, falso los demas digitos\n",
    "y_test_5 = (y_test == 5)"
   ]
  },
  {
   "cell_type": "markdown",
   "id": "a294bdc1",
   "metadata": {},
   "source": [
    "Elegimnos un clasificador. Un buen lugar para empezar es con el Stochastic Gradient Descent (SGD)\n",
    "Este clasificador es capaz de manejar grandes conjuntos de datos eficientemente.\n",
    "El SGD puede lidiar con observaciones de entrenamiento independientemente, uno a la vez.\n",
    "Los usaremos en el conjunto de entrenamiento entero"
   ]
  },
  {
   "cell_type": "code",
   "execution_count": 11,
   "id": "a266249d",
   "metadata": {},
   "outputs": [
    {
     "data": {
      "text/html": [
       "<style>#sk-container-id-1 {color: black;}#sk-container-id-1 pre{padding: 0;}#sk-container-id-1 div.sk-toggleable {background-color: white;}#sk-container-id-1 label.sk-toggleable__label {cursor: pointer;display: block;width: 100%;margin-bottom: 0;padding: 0.3em;box-sizing: border-box;text-align: center;}#sk-container-id-1 label.sk-toggleable__label-arrow:before {content: \"▸\";float: left;margin-right: 0.25em;color: #696969;}#sk-container-id-1 label.sk-toggleable__label-arrow:hover:before {color: black;}#sk-container-id-1 div.sk-estimator:hover label.sk-toggleable__label-arrow:before {color: black;}#sk-container-id-1 div.sk-toggleable__content {max-height: 0;max-width: 0;overflow: hidden;text-align: left;background-color: #f0f8ff;}#sk-container-id-1 div.sk-toggleable__content pre {margin: 0.2em;color: black;border-radius: 0.25em;background-color: #f0f8ff;}#sk-container-id-1 input.sk-toggleable__control:checked~div.sk-toggleable__content {max-height: 200px;max-width: 100%;overflow: auto;}#sk-container-id-1 input.sk-toggleable__control:checked~label.sk-toggleable__label-arrow:before {content: \"▾\";}#sk-container-id-1 div.sk-estimator input.sk-toggleable__control:checked~label.sk-toggleable__label {background-color: #d4ebff;}#sk-container-id-1 div.sk-label input.sk-toggleable__control:checked~label.sk-toggleable__label {background-color: #d4ebff;}#sk-container-id-1 input.sk-hidden--visually {border: 0;clip: rect(1px 1px 1px 1px);clip: rect(1px, 1px, 1px, 1px);height: 1px;margin: -1px;overflow: hidden;padding: 0;position: absolute;width: 1px;}#sk-container-id-1 div.sk-estimator {font-family: monospace;background-color: #f0f8ff;border: 1px dotted black;border-radius: 0.25em;box-sizing: border-box;margin-bottom: 0.5em;}#sk-container-id-1 div.sk-estimator:hover {background-color: #d4ebff;}#sk-container-id-1 div.sk-parallel-item::after {content: \"\";width: 100%;border-bottom: 1px solid gray;flex-grow: 1;}#sk-container-id-1 div.sk-label:hover label.sk-toggleable__label {background-color: #d4ebff;}#sk-container-id-1 div.sk-serial::before {content: \"\";position: absolute;border-left: 1px solid gray;box-sizing: border-box;top: 0;bottom: 0;left: 50%;z-index: 0;}#sk-container-id-1 div.sk-serial {display: flex;flex-direction: column;align-items: center;background-color: white;padding-right: 0.2em;padding-left: 0.2em;position: relative;}#sk-container-id-1 div.sk-item {position: relative;z-index: 1;}#sk-container-id-1 div.sk-parallel {display: flex;align-items: stretch;justify-content: center;background-color: white;position: relative;}#sk-container-id-1 div.sk-item::before, #sk-container-id-1 div.sk-parallel-item::before {content: \"\";position: absolute;border-left: 1px solid gray;box-sizing: border-box;top: 0;bottom: 0;left: 50%;z-index: -1;}#sk-container-id-1 div.sk-parallel-item {display: flex;flex-direction: column;z-index: 1;position: relative;background-color: white;}#sk-container-id-1 div.sk-parallel-item:first-child::after {align-self: flex-end;width: 50%;}#sk-container-id-1 div.sk-parallel-item:last-child::after {align-self: flex-start;width: 50%;}#sk-container-id-1 div.sk-parallel-item:only-child::after {width: 0;}#sk-container-id-1 div.sk-dashed-wrapped {border: 1px dashed gray;margin: 0 0.4em 0.5em 0.4em;box-sizing: border-box;padding-bottom: 0.4em;background-color: white;}#sk-container-id-1 div.sk-label label {font-family: monospace;font-weight: bold;display: inline-block;line-height: 1.2em;}#sk-container-id-1 div.sk-label-container {text-align: center;}#sk-container-id-1 div.sk-container {/* jupyter's `normalize.less` sets `[hidden] { display: none; }` but bootstrap.min.css set `[hidden] { display: none !important; }` so we also need the `!important` here to be able to override the default hidden behavior on the sphinx rendered scikit-learn.org. See: https://github.com/scikit-learn/scikit-learn/issues/21755 */display: inline-block !important;position: relative;}#sk-container-id-1 div.sk-text-repr-fallback {display: none;}</style><div id=\"sk-container-id-1\" class=\"sk-top-container\"><div class=\"sk-text-repr-fallback\"><pre>SGDClassifier(random_state=42)</pre><b>In a Jupyter environment, please rerun this cell to show the HTML representation or trust the notebook. <br />On GitHub, the HTML representation is unable to render, please try loading this page with nbviewer.org.</b></div><div class=\"sk-container\" hidden><div class=\"sk-item\"><div class=\"sk-estimator sk-toggleable\"><input class=\"sk-toggleable__control sk-hidden--visually\" id=\"sk-estimator-id-1\" type=\"checkbox\" checked><label for=\"sk-estimator-id-1\" class=\"sk-toggleable__label sk-toggleable__label-arrow\">SGDClassifier</label><div class=\"sk-toggleable__content\"><pre>SGDClassifier(random_state=42)</pre></div></div></div></div></div>"
      ],
      "text/plain": [
       "SGDClassifier(random_state=42)"
      ]
     },
     "execution_count": 11,
     "metadata": {},
     "output_type": "execute_result"
    }
   ],
   "source": [
    "from sklearn.linear_model import SGDClassifier\n",
    "sgd_clf = SGDClassifier(random_state=42)\n",
    "sgd_clf.fit(X_train, y_train_5)"
   ]
  },
  {
   "cell_type": "markdown",
   "id": "0ef8ab8d",
   "metadata": {},
   "source": [
    "Ahora podemos usarlos para detectar imagenes con el numero 5"
   ]
  },
  {
   "cell_type": "code",
   "execution_count": 12,
   "id": "a54d63b6",
   "metadata": {
    "scrolled": true
   },
   "outputs": [
    {
     "name": "stderr",
     "output_type": "stream",
     "text": [
      "C:\\Users\\erdav\\anaconda3\\lib\\site-packages\\sklearn\\base.py:464: UserWarning: X does not have valid feature names, but SGDClassifier was fitted with feature names\n",
      "  warnings.warn(\n"
     ]
    },
    {
     "data": {
      "text/plain": [
       "array([ True])"
      ]
     },
     "execution_count": 12,
     "metadata": {},
     "output_type": "execute_result"
    }
   ],
   "source": [
    "sgd_clf.predict([some_digit])"
   ]
  },
  {
   "cell_type": "markdown",
   "id": "9197b3ab",
   "metadata": {},
   "source": [
    "NotaL: Mezclar puede ser mala idea en algunos contextos, por ejemplo si usan series de tienpo\n",
    "Arriba se hizo shuffling"
   ]
  },
  {
   "cell_type": "markdown",
   "id": "3cf3b471",
   "metadata": {},
   "source": [
    "## Medidas de Performance"
   ]
  },
  {
   "cell_type": "markdown",
   "id": "697c9d8c",
   "metadata": {},
   "source": [
    "Existen varias medidas de performance"
   ]
  },
  {
   "cell_type": "markdown",
   "id": "45cd5062",
   "metadata": {},
   "source": [
    "### Medir presicion usando cross-validation"
   ]
  },
  {
   "cell_type": "markdown",
   "id": "4f22cf28",
   "metadata": {},
   "source": [
    "Una buena forma de evaluar un modelo es usando cross-validation.\n",
    "\n",
    "Usaremos cross_val_score() para evaluar el modelo de SGDClassifier\n",
    "\n",
    "K-folds significa dividir el modelo de entrenamiento en K-folds (en este caso 3)"
   ]
  },
  {
   "cell_type": "code",
   "execution_count": 13,
   "id": "0e91cb40",
   "metadata": {},
   "outputs": [
    {
     "data": {
      "text/plain": [
       "array([0.95035, 0.96035, 0.9604 ])"
      ]
     },
     "execution_count": 13,
     "metadata": {},
     "output_type": "execute_result"
    }
   ],
   "source": [
    ">>> from sklearn.model_selection import cross_val_score\n",
    ">>> cross_val_score(sgd_clf, X_train, y_train_5, cv=3, scoring=\"accuracy\")"
   ]
  },
  {
   "cell_type": "markdown",
   "id": "525df38b",
   "metadata": {},
   "source": [
    "Cerca del 95% de presicion (proporcion de predcciones correctas) en todos los folds de cross validation\n",
    "\n",
    "Usaremos un clasificador para comparar, este compara cada imagen en la clase de \n",
    "\"no es 5\""
   ]
  },
  {
   "cell_type": "code",
   "execution_count": 14,
   "id": "7dd510cc",
   "metadata": {},
   "outputs": [],
   "source": [
    "from sklearn.base import BaseEstimator\n",
    "class Never5Classifier(BaseEstimator):\n",
    "    def fit(self, X, y=None):\n",
    "        pass\n",
    "    def predict(self, X):\n",
    "        return np.zeros((len(X), 1), dtype=bool)"
   ]
  },
  {
   "cell_type": "code",
   "execution_count": 15,
   "id": "5b9a6fb5",
   "metadata": {},
   "outputs": [
    {
     "data": {
      "text/plain": [
       "array([0.91125, 0.90855, 0.90915])"
      ]
     },
     "execution_count": 15,
     "metadata": {},
     "output_type": "execute_result"
    }
   ],
   "source": [
    ">>> never_5_clf = Never5Classifier()\n",
    ">>> cross_val_score(never_5_clf, X_train, y_train_5, cv=3, scoring=\"accuracy\")"
   ]
  },
  {
   "cell_type": "markdown",
   "id": "e2bf438a",
   "metadata": {},
   "source": [
    "Tiene un 90% de presicion ya que cerca del 10% de las imagenes son 5, asi que si siempre se adivina una imagen que no es un 5, tendras presicion de un 90%.\n",
    "\n",
    "Esto demuestra porque la presicion es generalmente no preferida como medidor de performance para clasificadores, especialmente cuando son datasets sesgados"
   ]
  },
  {
   "cell_type": "markdown",
   "id": "13671619",
   "metadata": {},
   "source": [
    "## Matriz de confusion"
   ]
  },
  {
   "cell_type": "markdown",
   "id": "904356e8",
   "metadata": {},
   "source": [
    "Es un mejor evaluador de performance de un clasificador.\n",
    "La idea general es contar el numero de veces que las observaciones son clasificadas como clase A son clasificadas como clase B. por ejemplo, para saber el numero de veces que un clasificador confunde imagenes del 5 con el 3, observaras en l quinta fila y la tercer columna en la matriz de confusion\n",
    "\n",
    "Para calcular la matriz de confusion, primero se debe tener un set de predicciones, para que puedan ser comparados con los objetivios actuales.\n",
    "Se podrian hacer predicciones con el conjunto de prueba, pero no los tocaremos por ahora. (test set se usa de preferencia al final del proyecto)\n",
    "\n",
    "En su lugar usaremos la funcion cross_val_predict()"
   ]
  },
  {
   "cell_type": "code",
   "execution_count": 16,
   "id": "bc79cd20",
   "metadata": {},
   "outputs": [],
   "source": [
    "from sklearn.model_selection import cross_val_predict\n",
    "y_train_pred = cross_val_predict(sgd_clf, X_train, y_train_5, cv=3)"
   ]
  },
  {
   "cell_type": "markdown",
   "id": "4af9fcd6",
   "metadata": {},
   "source": [
    "Al igual que la función cross_val_score(), cross_val_predict() realiza K-fold\n",
    "cross validation, pero en lugar de devolver las puntuaciones de evaluación, devuelve las predicciones realizadas en cada pliegue de la prueba. Esto significa que obtienes una predicción limpia para cada\n",
    "instancia en el conjunto de entrenamiento (\"limpio\", lo que significa que la predicción la realiza un modelo\n",
    "que nunca vio los datos durante el entrenamiento)\n",
    "\n",
    "Ahora estamos listos para hacer una matriz de confusion"
   ]
  },
  {
   "cell_type": "code",
   "execution_count": 17,
   "id": "2449f9ad",
   "metadata": {},
   "outputs": [
    {
     "data": {
      "text/plain": [
       "array([[53892,   687],\n",
       "       [ 1891,  3530]], dtype=int64)"
      ]
     },
     "execution_count": 17,
     "metadata": {},
     "output_type": "execute_result"
    }
   ],
   "source": [
    ">>> from sklearn.metrics import confusion_matrix\n",
    ">>> confusion_matrix(y_train_5, y_train_pred)"
   ]
  },
  {
   "cell_type": "markdown",
   "id": "ec3c29bb",
   "metadata": {},
   "source": [
    "Cada fila en una matriz de confusión representa una clase real, mientras que cada columna representa\n",
    "envía una clase prevista. La primera fila de esta matriz considera imágenes que no son 5 (las imágenes negativas): 53892 de ellos fueron clasificados correctamente como no 5 (se les llama verdaderos\n",
    "negativos), mientras que los 687 restantes fueron clasificados erróneamente como 5 (falsos positivos).\n",
    "La segunda fila considera las imágenes de 5 (la clase positiva): 1891 estaban equivocadas\n",
    "clasificados como no 5 (falsos negativos), mientras que los 3530 restantes se clasificaron correctamente.\n",
    "clasificados como 5 (verdaderos positivos). Un clasificador perfecto sólo tendría verdaderos positivos y verdaderos.\n",
    "negativos, por lo que su matriz de confusión tendría valores distintos de cero sólo en su diagonal principal.\n",
    "final (de arriba a la izquierda a abajo a la derecha):"
   ]
  },
  {
   "cell_type": "code",
   "execution_count": 18,
   "id": "80153973",
   "metadata": {},
   "outputs": [
    {
     "data": {
      "text/plain": [
       "array([[54579,     0],\n",
       "       [    0,  5421]], dtype=int64)"
      ]
     },
     "execution_count": 18,
     "metadata": {},
     "output_type": "execute_result"
    }
   ],
   "source": [
    ">>> y_train_perfect_predictions = y_train_5 # pretendemnos que alcanzamos la perfeccion\n",
    ">>> confusion_matrix(y_train_5, y_train_perfect_predictions)"
   ]
  },
  {
   "cell_type": "markdown",
   "id": "95c48e5b",
   "metadata": {},
   "source": [
    "## Precision y recuperacion"
   ]
  },
  {
   "cell_type": "markdown",
   "id": "e7362bf0",
   "metadata": {},
   "source": [
    "Calcular metricas de clasificacion"
   ]
  },
  {
   "cell_type": "code",
   "execution_count": 19,
   "id": "5e25bd3a",
   "metadata": {},
   "outputs": [
    {
     "data": {
      "text/plain": [
       "0.8370879772350012"
      ]
     },
     "execution_count": 19,
     "metadata": {},
     "output_type": "execute_result"
    }
   ],
   "source": [
    ">>> from sklearn.metrics import precision_score, recall_score\n",
    ">>> precision_score(y_train_5, y_train_pred) # == 3530 / (3530 + 687)"
   ]
  },
  {
   "cell_type": "code",
   "execution_count": 20,
   "id": "1826947d",
   "metadata": {},
   "outputs": [
    {
     "data": {
      "text/plain": [
       "0.6511713705958311"
      ]
     },
     "execution_count": 20,
     "metadata": {},
     "output_type": "execute_result"
    }
   ],
   "source": [
    "recall_score(y_train_5, y_train_pred) # == 3530 / (3530 + 1891)"
   ]
  },
  {
   "cell_type": "markdown",
   "id": "efe814ac",
   "metadata": {},
   "source": [
    "Ahora su detector de 5 no se ve tan brillante como cuando observó su precisión.\n",
    "Cuando afirma que una imagen representa un 5, es correcto sólo el 83,7% de las veces. Más-\n",
    "Además, sólo detecta el 65,1% de los 5"
   ]
  },
  {
   "cell_type": "markdown",
   "id": "29364496",
   "metadata": {},
   "source": [
    "A menudo es conveniente combinar precisión y recuperación en una única métrica llamada puntuación F1, en particular si necesita una forma sencilla de comparar dos clasificadores. La puntuación de F1 es\n",
    "La media armónica de precisión y recuperación. Mientras que la media regular trata todos los valores por igual, la media armónica da mucho más peso a los valores bajos.\n",
    "Como resultado, el clasificador sólo obtendrá una puntuación F1 alta si se cumplen tanto la recuperación como la precisión son altas."
   ]
  },
  {
   "cell_type": "code",
   "execution_count": 21,
   "id": "10244946",
   "metadata": {},
   "outputs": [
    {
     "data": {
      "text/plain": [
       "0.7325171197343846"
      ]
     },
     "execution_count": 21,
     "metadata": {},
     "output_type": "execute_result"
    }
   ],
   "source": [
    "## Calcular F1\n",
    ">>> from sklearn.metrics import f1_score\n",
    ">>> f1_score(y_train_5, y_train_pred)"
   ]
  },
  {
   "cell_type": "markdown",
   "id": "38106d3b",
   "metadata": {},
   "source": [
    "La puntuación F1 favorece a los clasificadores que tienen una precisión y recuperación similares. Esto no es siempre\n",
    "lo que quieres: en algunos contextos te preocupas principalmente por la precisión, y en otros contextos\n",
    "Recuerda los textos que realmente te interesan. Por ejemplo, si entrenó a un clasificador para detectar videos que son seguros para los niños, probablemente preferirías un clasificador que rechace muchos\n",
    "buenos videos (baja recuperación) pero solo mantiene los seguros (alta precisión), en lugar de una clase.\n",
    "clasificador que tiene una recuperación mucho mayor pero permite que aparezcan algunos videos realmente malos en tu\n",
    "producto (en tales casos, es posible que incluso desee agregar una canalización humana para verificar la selección de vídeo del clasificador). Por otro lado, suponga que entrena un clasificador para detectar\n",
    "ladrones en imágenes de vigilancia: probablemente esté bien si su clasificador tiene solo el 30%\n",
    "precisión siempre que tenga un 99% de recuperación (seguro, los guardias de seguridad obtendrán algunos falsos\n",
    "alertas, pero casi todos los ladrones serán atrapados).\n",
    "**Desafortunadamente, no se pueden tener ambas cosas: aumentar la precisión reduce la recuperación y\n",
    "viceversa. Esto se llama equilibrio entre precisión y recuperación**."
   ]
  },
  {
   "cell_type": "markdown",
   "id": "9e0c67f0",
   "metadata": {},
   "source": [
    "## Equilibrio recuperación/precisión"
   ]
  },
  {
   "cell_type": "markdown",
   "id": "ffe5815c",
   "metadata": {},
   "source": [
    "Scikit-Learn no le permite establecer el umbral directamente, pero sí le da acceso a\n",
    "las puntuaciones de decisión que utiliza para hacer predicciones. En lugar de llamar al clasificador\n",
    "método predict(), puede llamar a su método decision_function(), que devuelve un\n",
    "puntuación para cada observación y luego hacer predicciones basadas en esas puntuaciones utilizando cualquier\n",
    "umbral que desea:"
   ]
  },
  {
   "cell_type": "code",
   "execution_count": 22,
   "id": "a0bc345d",
   "metadata": {
    "scrolled": false
   },
   "outputs": [
    {
     "name": "stderr",
     "output_type": "stream",
     "text": [
      "C:\\Users\\erdav\\anaconda3\\lib\\site-packages\\sklearn\\base.py:464: UserWarning: X does not have valid feature names, but SGDClassifier was fitted with feature names\n",
      "  warnings.warn(\n"
     ]
    },
    {
     "data": {
      "text/plain": [
       "array([2164.22030239])"
      ]
     },
     "execution_count": 22,
     "metadata": {},
     "output_type": "execute_result"
    }
   ],
   "source": [
    "y_scores = sgd_clf.decision_function([some_digit])\n",
    "y_scores"
   ]
  },
  {
   "cell_type": "code",
   "execution_count": 23,
   "id": "d7c88243",
   "metadata": {},
   "outputs": [
    {
     "data": {
      "text/plain": [
       "array([ True])"
      ]
     },
     "execution_count": 23,
     "metadata": {},
     "output_type": "execute_result"
    }
   ],
   "source": [
    "threshold = 0\n",
    "y_some_digit_pred = (y_scores > threshold)\n",
    "y_some_digit_pred"
   ]
  },
  {
   "cell_type": "markdown",
   "id": "72df17e6",
   "metadata": {},
   "source": [
    "El SGDClassifier usa un umbral igual a 0, por lo que el código anterior devuelve lo mismo\n",
    "resultado como el método predict() (es decir, Verdadero). Elevemos el umbral:"
   ]
  },
  {
   "cell_type": "code",
   "execution_count": 24,
   "id": "26888bd5",
   "metadata": {},
   "outputs": [
    {
     "data": {
      "text/plain": [
       "array([False])"
      ]
     },
     "execution_count": 24,
     "metadata": {},
     "output_type": "execute_result"
    }
   ],
   "source": [
    ">>> threshold = 8000\n",
    ">>> y_some_digit_pred = (y_scores > threshold)\n",
    ">>> y_some_digit_pred"
   ]
  },
  {
   "cell_type": "markdown",
   "id": "3a5b4ce2",
   "metadata": {},
   "source": [
    "Esto confirma que elevar el umbral disminuye la recuperación. La imagen en realidad representa\n",
    "envía un 5, y el clasificador lo detecta cuando el umbral es 0, pero lo pierde cuando el\n",
    "El umbral se incrementa a 8.000.\n",
    "\n",
    "Ahora, ¿cómo decides qué umbral usar? Para esto primero necesitarás obtener el\n",
    "puntuaciones de todas las observaciones en el conjunto de entrenamiento usando la función cross_val_predict()\n",
    "nuevamente, pero esta vez especificando que desea que devuelva puntuaciones de decisión en lugar de\n",
    "predicciones:"
   ]
  },
  {
   "cell_type": "code",
   "execution_count": 25,
   "id": "20420018",
   "metadata": {},
   "outputs": [],
   "source": [
    "y_scores = cross_val_predict(sgd_clf, X_train, y_train_5, cv=3,\n",
    "method=\"decision_function\")"
   ]
  },
  {
   "cell_type": "markdown",
   "id": "a5042ea2",
   "metadata": {},
   "source": [
    "Ahora, con estos puntajes puede calcular la precisión y recuperar todos los umbrales posibles.\n",
    "viejos usando la función precision_recall_curve():"
   ]
  },
  {
   "cell_type": "code",
   "execution_count": 26,
   "id": "3e546c39",
   "metadata": {},
   "outputs": [],
   "source": [
    "from sklearn.metrics import precision_recall_curve\n",
    "precisions, recalls, thresholds = precision_recall_curve(y_train_5, y_scores)"
   ]
  },
  {
   "cell_type": "markdown",
   "id": "c121e835",
   "metadata": {},
   "source": [
    "Finalmente, podemos graficar la precisión y la recuperación como funciones del valor umbral "
   ]
  },
  {
   "cell_type": "code",
   "execution_count": 35,
   "id": "452f7c8e",
   "metadata": {
    "scrolled": true
   },
   "outputs": [
    {
     "data": {
      "text/plain": [
       "[<matplotlib.lines.Line2D at 0x199a2010e80>]"
      ]
     },
     "execution_count": 35,
     "metadata": {},
     "output_type": "execute_result"
    },
    {
     "data": {
      "image/png": "[encoded data removed]",
      "text/plain": [
       "<Figure size 576x288 with 1 Axes>"
      ]
     },
     "metadata": {
      "needs_background": "light"
     },
     "output_type": "display_data"
    }
   ],
   "source": [
    "def plot_precision_recall_vs_threshold(precisions, recalls, thresholds):\n",
    "    plt.plot(thresholds, precisions[:-1], \"b--\", label=\"Precision\", linewidth=2)\n",
    "    plt.plot(thresholds, recalls[:-1], \"g-\", label=\"Recall\", linewidth=2)\n",
    "    plt.legend(loc=\"center right\", fontsize=16) \n",
    "    plt.xlabel(\"Threshold\", fontsize=16)        \n",
    "    plt.grid(True)                              \n",
    "    plt.axis([-50000, 50000, 0, 1])             \n",
    "\n",
    "\n",
    "\n",
    "recall_90_precision = recalls[np.argmax(precisions >= 0.90)]\n",
    "threshold_90_precision = thresholds[np.argmax(precisions >= 0.90)]\n",
    "\n",
    "\n",
    "plt.figure(figsize=(8, 4))                                                                  \n",
    "plot_precision_recall_vs_threshold(precisions, recalls, thresholds)\n",
    "plt.plot([threshold_90_precision, threshold_90_precision], [0., 0.9], \"r:\")                 \n",
    "plt.plot([-50000, threshold_90_precision], [0.9, 0.9], \"r:\")                                \n",
    "plt.plot([-50000, threshold_90_precision], [recall_90_precision, recall_90_precision], \"r:\")\n",
    "plt.plot([threshold_90_precision], [0.9], \"ro\")                                             \n",
    "plt.plot([threshold_90_precision], [recall_90_precision], \"ro\")                             \n",
    "                                            "
   ]
  },
  {
   "cell_type": "markdown",
   "id": "f39df382",
   "metadata": {},
   "source": [
    "Entonces supongamos que decide apuntar a una precisión del 90%. Buscas la primera gráfica y\n",
    "descubres que necesitas utilizar un umbral de aproximadamente 8.000. Para ser más preciso puedes\n",
    "buscar el umbral más bajo que le brinde al menos un 90% de precisión (np.argmax()\n",
    "nos dará el primer índice del valor máximo, que en este caso significa el primer\n",
    "Verdadero valor):"
   ]
  },
  {
   "cell_type": "code",
   "execution_count": 36,
   "id": "f4f467e8",
   "metadata": {},
   "outputs": [],
   "source": [
    "threshold_90_precision = thresholds[np.argmax(precisions >= 0.90)]"
   ]
  },
  {
   "cell_type": "markdown",
   "id": "d070c2c1",
   "metadata": {},
   "source": [
    "Para hacer predicciones (en el conjunto de entrenamiento por ahora), en lugar de llamar al clasificador\n",
    "método predict(), puedes simplemente ejecutar este código:"
   ]
  },
  {
   "cell_type": "code",
   "execution_count": 37,
   "id": "20be21fb",
   "metadata": {},
   "outputs": [],
   "source": [
    "y_train_pred_90 = (y_scores >= threshold_90_precision)"
   ]
  },
  {
   "cell_type": "markdown",
   "id": "df733d7c",
   "metadata": {},
   "source": [
    "Comprobemos la precisión de estas predicciones y recordemos:"
   ]
  },
  {
   "cell_type": "code",
   "execution_count": 38,
   "id": "fb633ec0",
   "metadata": {},
   "outputs": [
    {
     "data": {
      "text/plain": [
       "0.9000345901072293"
      ]
     },
     "execution_count": 38,
     "metadata": {},
     "output_type": "execute_result"
    }
   ],
   "source": [
    "precision_score(y_train_5, y_train_pred_90)"
   ]
  },
  {
   "cell_type": "code",
   "execution_count": 39,
   "id": "ed66d276",
   "metadata": {},
   "outputs": [
    {
     "data": {
      "text/plain": [
       "0.4799852425751706"
      ]
     },
     "execution_count": 39,
     "metadata": {},
     "output_type": "execute_result"
    }
   ],
   "source": [
    "recall_score(y_train_5, y_train_pred_90)"
   ]
  },
  {
   "cell_type": "markdown",
   "id": "ae14c760",
   "metadata": {},
   "source": [
    "Tienes un clasificador de precisión del 90%! \n",
    "Un clasificador de alta precisión no es muy útil si la recuperación es demasiado baja"
   ]
  },
  {
   "cell_type": "markdown",
   "id": "c91ccfa3",
   "metadata": {},
   "source": [
    "## Curva ROC\n"
   ]
  },
  {
   "cell_type": "markdown",
   "id": "23036a69",
   "metadata": {},
   "source": [
    "La curva de característica operativa del receptor (ROC) es otra herramienta común utilizada con\n",
    "clasificadores binarios. Es muy similar a la curva de precisión/recuperación, pero en lugar de trazar una gráfica de precisión versus la recuperación, la curva ROC traza la tasa de verdaderos positivos (otro nombre\n",
    "para \"recall\") contra la tasa de falsos positivos. El FPR es la proporción de instancias negativas que\n",
    "se clasifican incorrectamente como positivos. Es igual a uno menos la tasa negativa verdadera,\n",
    "que es la proporción de instancias negativas que se clasifican correctamente como negativas. El\n",
    "TNR también se llama especificidad. Por lo tanto, la curva ROC traza la sensibilidad (recall) versus\n",
    "1 – especificidad."
   ]
  },
  {
   "cell_type": "markdown",
   "id": "94f3d720",
   "metadata": {},
   "source": [
    "Para hacer una curva ROC se necesita calcular el TPR y FPR para varios umbrales"
   ]
  },
  {
   "cell_type": "code",
   "execution_count": 41,
   "id": "089b75c3",
   "metadata": {},
   "outputs": [],
   "source": [
    "from sklearn.metrics import roc_curve\n",
    "fpr, tpr, thresholds = roc_curve(y_train_5, y_scores)"
   ]
  },
  {
   "cell_type": "markdown",
   "id": "49cc56e9",
   "metadata": {},
   "source": [
    "Hacemos gráfica"
   ]
  },
  {
   "cell_type": "code",
   "execution_count": 43,
   "id": "1497242a",
   "metadata": {
    "scrolled": true
   },
   "outputs": [
    {
     "data": {
      "image/png": "[encoded data removed]",
      "text/plain": [
       "<Figure size 576x432 with 1 Axes>"
      ]
     },
     "metadata": {
      "needs_background": "light"
     },
     "output_type": "display_data"
    }
   ],
   "source": [
    "def plot_roc_curve(fpr, tpr, label=None):\n",
    "    plt.plot(fpr, tpr, linewidth=2, label=label)\n",
    "    plt.plot([0, 1], [0, 1], 'k--') # dashed diagonal\n",
    "    plt.axis([0, 1, 0, 1])                                    \n",
    "    plt.xlabel('False Positive Rate (Fall-Out)', fontsize=16) \n",
    "    plt.ylabel('True Positive Rate (Recall)', fontsize=16)    \n",
    "    plt.grid(True)                                            \n",
    "\n",
    "plt.figure(figsize=(8, 6))                         \n",
    "plot_roc_curve(fpr, tpr)\n",
    "plt.plot([4.837e-3, 4.837e-3], [0., 0.4368], \"r:\") \n",
    "plt.plot([0.0, 4.837e-3], [0.4368, 0.4368], \"r:\")  \n",
    "plt.plot([4.837e-3], [0.4368], \"ro\")               \n",
    "plt.show()"
   ]
  },
  {
   "cell_type": "markdown",
   "id": "5cca3e2a",
   "metadata": {},
   "source": [
    "Una vez más hay una compensación: cuanto mayor sea el recall (TPR), más falsos positivos\n",
    "(FPR) que produce el clasificador. La línea de puntos representa la curva ROC de un análisis puramente\n",
    "clasificador aleatorio; un buen clasificador se mantiene lo más lejos posible de esa línea (hacia\n",
    "la esquina superior izquierda)."
   ]
  },
  {
   "cell_type": "markdown",
   "id": "d768d38e",
   "metadata": {},
   "source": [
    "Una forma de comparar clasificadores es medir el área bajo la curva (AUC). \n",
    "Un clasificador perfecto tendrá un ROC AUC igual a 1, mientras que un clasificador puramente aleatorio\n",
    "tendra un AUC ROC igual a 0,5. Scikit-Learn proporciona una función para calcular la ROC\n",
    "AUC:"
   ]
  },
  {
   "cell_type": "code",
   "execution_count": 44,
   "id": "e95dbaf3",
   "metadata": {},
   "outputs": [
    {
     "data": {
      "text/plain": [
       "0.9604938554008616"
      ]
     },
     "execution_count": 44,
     "metadata": {},
     "output_type": "execute_result"
    }
   ],
   "source": [
    "from sklearn.metrics import roc_auc_score\n",
    "roc_auc_score(y_train_5, y_scores)"
   ]
  },
  {
   "cell_type": "markdown",
   "id": "73e7a8f0",
   "metadata": {},
   "source": [
    "Dado que la curva ROC es muy similar a la curva de precisión/recuperación (o PR)\n",
    ", quizás te preguntes cómo decidir cuál usar. Como una regla\n",
    "por regla general, debería preferir la curva PR siempre que el valor positivo\n",
    "clase es rara o cuando te preocupas más por los falsos positivos que por\n",
    "los falsos negativos, y la curva ROC en caso contrario. Por ejemplo,\n",
    "al observar la curva ROC anterior (y la puntuación AUC de ROC),\n",
    "puede pensar que el clasificador es realmente bueno. Pero esto es principalmente\n",
    "porque hay pocos aspectos positivos (5s) en comparación con los negativos\n",
    "(no 5s). Por el contrario, la curva PR deja claro que el clasificador\n",
    "tiene margen de mejora (la curva podría estar más cerca de la esquina superior derecha)."
   ]
  },
  {
   "cell_type": "markdown",
   "id": "a64492b7",
   "metadata": {},
   "source": [
    "Entrenemos un RandomForestClassifier y comparemos su curva ROC y ROC AUC\n",
    "puntuación al SGDClassifier. Primero, necesitas obtener puntuaciones para cada instancia en el\n",
    "conjunto de entrenamiento. Pero debido a la forma en que funciona , RandomForestClassifier no tiene un método decision_function(). En cambio tiene un pre\n",
    "método dict_proba(). Los clasificadores de Scikit-Learn generalmente tienen uno u otro. El\n",
    "El método predict_proba() devuelve una matriz que contiene una fila por instancia y una columna por clase, cada una de las cuales contiene la probabilidad de que la instancia dada pertenezca a la\n",
    "clase dada:"
   ]
  },
  {
   "cell_type": "code",
   "execution_count": 46,
   "id": "6db0adbf",
   "metadata": {},
   "outputs": [],
   "source": [
    "from sklearn.ensemble import RandomForestClassifier\n",
    "forest_clf = RandomForestClassifier(random_state=42)\n",
    "y_probas_forest = cross_val_predict(forest_clf, X_train, y_train_5, cv=3,\n",
    "                                    method=\"predict_proba\")"
   ]
  },
  {
   "cell_type": "markdown",
   "id": "eb500956",
   "metadata": {},
   "source": [
    "Pero para trazar una curva ROC, se necesitan puntuaciones, no probabilidades. Una solución sencilla es\n",
    "utilizar la probabilidad de la clase positiva como puntuación:"
   ]
  },
  {
   "cell_type": "code",
   "execution_count": 47,
   "id": "8aaf1155",
   "metadata": {},
   "outputs": [],
   "source": [
    "y_scores_forest = y_probas_forest[:, 1] # score = proba of positive class\n",
    "fpr_forest, tpr_forest, thresholds_forest = roc_curve(y_train_5,y_scores_forest)"
   ]
  },
  {
   "cell_type": "code",
   "execution_count": 50,
   "id": "743a1531",
   "metadata": {
    "scrolled": true
   },
   "outputs": [
    {
     "data": {
      "image/png": "[encoded data removed]",
      "text/plain": [
       "<Figure size 576x432 with 1 Axes>"
      ]
     },
     "metadata": {
      "needs_background": "light"
     },
     "output_type": "display_data"
    }
   ],
   "source": [
    "## Graficar curva ROC\n",
    "## Graficamos la primera para comparar\n",
    "plt.figure(figsize=(8, 6))\n",
    "plt.plot(fpr, tpr, \"b:\", linewidth=2, label=\"SGD\")\n",
    "plot_roc_curve(fpr_forest, tpr_forest, \"Random Forest\")\n",
    "plt.plot([4.837e-3, 4.837e-3], [0., 0.4368], \"r:\")\n",
    "plt.plot([0.0, 4.837e-3], [0.4368, 0.4368], \"r:\")\n",
    "plt.plot([4.837e-3], [0.4368], \"ro\")\n",
    "plt.plot([4.837e-3, 4.837e-3], [0., 0.9487], \"r:\")\n",
    "plt.plot([4.837e-3], [0.9487], \"ro\")\n",
    "plt.grid(True)\n",
    "plt.legend(loc=\"lower right\", fontsize=16)\n",
    "plt.show()"
   ]
  },
  {
   "cell_type": "markdown",
   "id": "32302415",
   "metadata": {},
   "source": [
    "La curva ROC de RandomForestClassifier parece mucho\n",
    "mejor que el del SGDClassifier: viene mucho más cerca"
   ]
  }
 ],
 "metadata": {
  "kernelspec": {
   "display_name": "Python 3 (ipykernel)",
   "language": "python",
   "name": "python3"
  },
  "language_info": {
   "codemirror_mode": {
    "name": "ipython",
    "version": 3
   },
   "file_extension": ".py",
   "mimetype": "text/x-python",
   "name": "python",
   "nbconvert_exporter": "python",
   "pygments_lexer": "ipython3",
   "version": "3.9.12"
  }
 },
 "nbformat": 4,
 "nbformat_minor": 5
}
